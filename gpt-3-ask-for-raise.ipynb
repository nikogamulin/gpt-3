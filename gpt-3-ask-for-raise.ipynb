{
 "cells": [
  {
   "cell_type": "code",
   "execution_count": 1,
   "id": "eleven-suggestion",
   "metadata": {
    "ExecuteTime": {
     "end_time": "2021-02-22T21:31:15.794227Z",
     "start_time": "2021-02-22T21:31:15.627917Z"
    }
   },
   "outputs": [],
   "source": [
    "import json\n",
    "import openai"
   ]
  },
  {
   "cell_type": "code",
   "execution_count": 2,
   "id": "norwegian-second",
   "metadata": {
    "ExecuteTime": {
     "end_time": "2021-02-22T21:31:16.375613Z",
     "start_time": "2021-02-22T21:31:16.372899Z"
    }
   },
   "outputs": [],
   "source": [
    "openai.api_key = \"xxx\""
   ]
  },
  {
   "cell_type": "code",
   "execution_count": 3,
   "id": "reserved-ottawa",
   "metadata": {
    "ExecuteTime": {
     "end_time": "2021-02-22T21:31:17.016972Z",
     "start_time": "2021-02-22T21:31:17.006565Z"
    }
   },
   "outputs": [],
   "source": [
    "class Example():\n",
    "    \"\"\"Stores an input, output pair and formats it to prime the model.\"\"\"\n",
    "\n",
    "    def __init__(self, inp, out):\n",
    "        self.input = inp\n",
    "        self.output = out\n",
    "\n",
    "    def get_input(self):\n",
    "        \"\"\"Returns the input of the example.\"\"\"\n",
    "        return self.input\n",
    "\n",
    "    def get_output(self):\n",
    "        \"\"\"Returns the intended output of the example.\"\"\"\n",
    "        return self.output\n",
    "\n",
    "    def format(self):\n",
    "        \"\"\"Formats the input, output pair.\"\"\"\n",
    "        return f\"input: {self.input}\\noutput: {self.output}\\n\"\n",
    "\n",
    "\n",
    "class GPT:\n",
    "    \"\"\"The main class for a user to interface with the OpenAI API.\n",
    "    A user can add examples and set parameters of the API request.\"\"\"\n",
    "\n",
    "    def __init__(self, engine='davinci',\n",
    "                 temperature=0.5,\n",
    "                 max_tokens=100):\n",
    "        self.examples = []\n",
    "        self.engine = engine\n",
    "        self.temperature = temperature\n",
    "        self.max_tokens = max_tokens\n",
    "\n",
    "    def add_example(self, ex):\n",
    "        \"\"\"Adds an example to the object. Example must be an instance\n",
    "        of the Example class.\"\"\"\n",
    "        assert isinstance(ex, Example), \"Please create an Example object.\"\n",
    "        self.examples.append(ex.format())\n",
    "\n",
    "    def get_prime_text(self):\n",
    "        \"\"\"Formats all examples to prime the model.\"\"\"\n",
    "        return '\\n'.join(self.examples) + '\\n'\n",
    "\n",
    "    def get_engine(self):\n",
    "        \"\"\"Returns the engine specified for the API.\"\"\"\n",
    "        return self.engine\n",
    "\n",
    "    def get_temperature(self):\n",
    "        \"\"\"Returns the temperature specified for the API.\"\"\"\n",
    "        return self.temperature\n",
    "\n",
    "    def get_max_tokens(self):\n",
    "        \"\"\"Returns the max tokens specified for the API.\"\"\"\n",
    "        return self.max_tokens\n",
    "\n",
    "    def craft_query(self, prompt):\n",
    "        \"\"\"Creates the query for the API request.\"\"\"\n",
    "        return self.get_prime_text() + \"input: \" + prompt + \"\\n\"\n",
    "\n",
    "    def submit_request(self, prompt):\n",
    "        \"\"\"Calls the OpenAI API with the specified parameters.\"\"\"\n",
    "        response = openai.Completion.create(engine=self.get_engine(),\n",
    "                                            prompt=self.craft_query(prompt),\n",
    "                                            max_tokens=self.get_max_tokens(),\n",
    "                                            temperature=self.get_temperature(),\n",
    "                                            top_p=1,\n",
    "                                            n=1,\n",
    "                                            stream=False,\n",
    "                                            stop=\"\\ninput:\")\n",
    "        return response\n",
    "\n",
    "    def get_top_reply(self, prompt):\n",
    "        \"\"\"Obtains the best result as returned by the API.\"\"\"\n",
    "        response = self.submit_request(prompt)\n",
    "        return response['choices'][0]['text'].split('output:')[1]"
   ]
  },
  {
   "cell_type": "code",
   "execution_count": 4,
   "id": "aerial-elephant",
   "metadata": {
    "ExecuteTime": {
     "end_time": "2021-02-22T21:31:18.335833Z",
     "start_time": "2021-02-22T21:31:18.333100Z"
    }
   },
   "outputs": [],
   "source": [
    "gpt = GPT(engine=\"davinci\",\n",
    "          temperature=0.9,\n",
    "          max_tokens=400)"
   ]
  },
  {
   "cell_type": "code",
   "execution_count": 5,
   "id": "blank-courage",
   "metadata": {
    "ExecuteTime": {
     "end_time": "2021-02-22T21:31:19.507207Z",
     "start_time": "2021-02-22T21:31:19.501624Z"
    }
   },
   "outputs": [],
   "source": [
    "class EmploymentInfo:\n",
    "    def __init__(self, company_name, boss_name, employee_name, last_raise, job_title, achievements, raise_proposal, years_employed=None):\n",
    "        self.company_name = company_name\n",
    "        self.boss_name = boss_name\n",
    "        self.employee_name = employee_name\n",
    "        self.last_raise = last_raise\n",
    "        self.job_title = job_title\n",
    "        self.achievements = achievements\n",
    "        self.raise_proposal = raise_proposal\n",
    "        self.years_employed = years_employed\n",
    "        \n",
    "    def __str__(self):\n",
    "        str_achievements = '|'.join(self.achievements)\n",
    "        content = f'{self.company_name}\\n{self.boss_name}\\n{self.employee_name}\\n{self.last_raise}\\n{self.job_title}\\n{str_achievements}\\n{self.raise_proposal}'\n",
    "        if self.years_employed is not None:\n",
    "            content += f'\\n{self.years_employed}'\n",
    "        return content\n",
    "    \n",
    "def getPayRiseLetterContent(employment_info, gpt):\n",
    "    prompt = str(employment_info)\n",
    "    resp = gpt.get_top_reply(prompt)\n",
    "    return f'Dear {employment_info.boss_name},\\n{resp}\\n{employment_info.employee_name}'"
   ]
  },
  {
   "cell_type": "code",
   "execution_count": 6,
   "id": "comfortable-burns",
   "metadata": {
    "ExecuteTime": {
     "end_time": "2021-02-22T21:31:20.977082Z",
     "start_time": "2021-02-22T21:31:20.965425Z"
    }
   },
   "outputs": [],
   "source": [
    "employment_info_1 = EmploymentInfo(company_name='Chandlers', boss_name='Robert', employee_name='Kate', last_raise='4 years', job_title='software engineer', achievements=['took initiative to redesign the web app', 'developed a machine learning model to automate anomaly detection'], raise_proposal='10%')\n",
    "letter1 = \"\"\"I have greatly enjoyed working at Chandlers for the past four years. In those years, I have become an integral member of the software engineering team, and have developed innovative ways to contribute to the company.\n",
    "For example, in the past year alone, I have taken the intiative to redesign the web app and have developed a machine learning model to automate anomaly detection.\n",
    "I believe I have gone above and beyond the benchmarks we set for my position in the last four years.\n",
    "I would therefore appreciate the opportunity to meet with you to discuss increasing my salary so that it is commensurate with my current performance. I request a pay raise of 10%, which I believe reflects both my current competencies and industry averages.\n",
    "Once again, I am grateful to be a member of this organization, and I enjoy taking on assignments that allow me to contribute to the company.\n",
    "Thank you for your time. I look forward to speaking with you soon.\n",
    "Sincerely,\n",
    "\"\"\"\n",
    "employment_info_2 = EmploymentInfo(company_name='ABC Corp', boss_name='Jane', employee_name='George Smith', last_raise='2 years ago', job_title='UX Designer', achievements=['completed XYZ project', 'exceeded my own goals without missing a single deadline', 'continued developing my skillset', 'taking classes in UX design'], raise_proposal='8%', years_employed=4)\n",
    "letter2 = \"\"\"Now that the XYZ project is in the rear view and we’re all settling back into our regular routines, I wanted to drop you a line to ask if we can have a meeting to discuss my compensation.\n",
    "As you know, I started at ABC Corp four years ago as an intern and came on board at a salary that was slightly low in the pay band, with the understanding that we would revisit my pay at review time. Since then, of course, we’ve all been too busy to think much about anything but hitting our deadlines.\n",
    "I feel so fortunate to have had the opportunity to start my career with a mentor like you, and to continue to learn in a company that’s growing so fast. Over the past two years, I’ve gladly assumed many hats, including completing XYz project. In addition, I’ve always exceeded my own goals without missing a single deadline. I’ve also continued developing my skillset, taking classes in UX design.\n",
    "My research indicates that a raise of 8% would be appropriate. I’d love the opportunity to meet with you and discuss in person.\n",
    "Best,\"\"\"\n",
    "employment_info_3 = EmploymentInfo(company_name='SalesCorp', boss_name='Robert', employee_name='Phil', last_raise='last year', job_title='key accountant', achievements=['took the lead on expenses optimization', 'met goals in reducing the rental cost', 'improved efficiencies that led to a savings of $5000 for the company', 'achieved success in mentoring Jane'], raise_proposal='8%', years_employed=5)\n",
    "letter3 = \"\"\"As the fifth anniversary gets close, I would like to formally request a review of my salary for my work as a key accountant. During my time at SalesCorp, I have taken on additional responsibilities and have achieved success in several areas. I’ve made a brief list of just some of my accomplishments and responsibilities, which include the following:\n",
    "Taking the lead on expenses optimization\n",
    "Meeting goals in reducing the rental cost\n",
    "Improving efficiencies that led to a savings of $5000 for the company\n",
    "Successfully mentored Jane\n",
    "I enjoy my work here and appreciate the support you and the team have shown me. Given the added value I have brought the company, I think it is fair to request a bump in pay. Based on the research, I’ve found that the midpoint salary (or median national salary) for this position is slightly higher for my experience level. Considering regional variances, a 8 percent raise would put my compensation closer to those salary benchmarks.\n",
    "Thank you for your consideration. I am willing to work with you to accommodate my request, taking into account what is best for the company. Please let me know if you are available for a short meeting.\n",
    "Sincerely,\"\"\"\n"
   ]
  },
  {
   "cell_type": "code",
   "execution_count": 7,
   "id": "minor-ordinary",
   "metadata": {
    "ExecuteTime": {
     "end_time": "2021-02-22T21:31:22.463395Z",
     "start_time": "2021-02-22T21:31:22.459957Z"
    }
   },
   "outputs": [],
   "source": [
    "gpt.add_example(Example(employment_info_1, \n",
    "                        letter1))"
   ]
  },
  {
   "cell_type": "code",
   "execution_count": 8,
   "id": "quality-temple",
   "metadata": {
    "ExecuteTime": {
     "end_time": "2021-02-22T21:31:22.924755Z",
     "start_time": "2021-02-22T21:31:22.922361Z"
    }
   },
   "outputs": [],
   "source": [
    "gpt.add_example(Example(employment_info_2, \n",
    "                        letter2))"
   ]
  },
  {
   "cell_type": "code",
   "execution_count": 9,
   "id": "surgical-fleece",
   "metadata": {
    "ExecuteTime": {
     "end_time": "2021-02-22T21:31:23.616670Z",
     "start_time": "2021-02-22T21:31:23.613370Z"
    }
   },
   "outputs": [],
   "source": [
    "gpt.add_example(Example(employment_info_3, \n",
    "                        letter3))"
   ]
  },
  {
   "cell_type": "code",
   "execution_count": 10,
   "id": "frozen-listening",
   "metadata": {
    "ExecuteTime": {
     "end_time": "2021-02-22T21:31:44.155991Z",
     "start_time": "2021-02-22T21:31:26.778717Z"
    }
   },
   "outputs": [
    {
     "name": "stdout",
     "output_type": "stream",
     "text": [
      "Dear Steve,\n",
      " I’ve greatly enjoyed my time here at Cognos Softworks. As a project manager, my role at the company has been extremely rewarding, and I know that I have made serious contributions in ways that you can’t measure on paper. I’d like to take this opportunity to submit my formal request for a review of my wage to reflect my experience and the value I’ve brought to the company.\n",
      "As you know, I lead the development of the LIDAR last year. My team exceeded the expectation under my leadership, resulting in a product that was both performant and provided a recognizable return on investment. I also introduced SCRUM , which allowed us to complete the product in half the time and using fewer team members than we had originally anticipated. This means that we not only hit our deadline, but we also generated an average of 15 percent more business per quarter, compared to financial forecasts before we began working in that way.\n",
      "Thanks for your consideration. I would love to discuss this more with you, but if you are busy, I can come in at a moment’s notice.\n",
      "Thank you,\n",
      "Sincerely,\n",
      "\n",
      "Aaron\n"
     ]
    }
   ],
   "source": [
    "employment_info = EmploymentInfo(company_name='Cognos Softworks', boss_name=\"Steve\", employee_name=\"Aaron\", last_raise='last year', job_title='project manager', achievements=['lead the development of the LIDAR', 'my team exceeded the expectation under my leadership', 'introduced SCRUM'], raise_proposal='12%')\n",
    "print(getPayRiseLetterContent(employment_info, gpt))"
   ]
  },
  {
   "cell_type": "markdown",
   "id": "physical-johnson",
   "metadata": {},
   "source": [
    "# References\n",
    "[gpt3-sandbox](https://github.com/shreyashankar/gpt3-sandbox/blob/master/api/gpt.py)"
   ]
  },
  {
   "cell_type": "code",
   "execution_count": null,
   "id": "accurate-canada",
   "metadata": {},
   "outputs": [],
   "source": []
  }
 ],
 "metadata": {
  "gist": {
   "data": {
    "description": "gpt-3-ask-for-raise.ipynb",
    "public": true
   },
   "id": ""
  },
  "kernelspec": {
   "display_name": "Python 3",
   "language": "python",
   "name": "python3"
  },
  "language_info": {
   "codemirror_mode": {
    "name": "ipython",
    "version": 3
   },
   "file_extension": ".py",
   "mimetype": "text/x-python",
   "name": "python",
   "nbconvert_exporter": "python",
   "pygments_lexer": "ipython3",
   "version": "3.8.5"
  }
 },
 "nbformat": 4,
 "nbformat_minor": 5
}
